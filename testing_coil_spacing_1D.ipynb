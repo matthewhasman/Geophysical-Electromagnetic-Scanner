{
 "cells": [
  {
   "cell_type": "code",
   "execution_count": 636,
   "metadata": {},
   "outputs": [],
   "source": [
    "# import packages\n",
    "import numpy as np\n",
    "import os\n",
    "from matplotlib import pyplot as plt\n",
    "\n",
    "from SimPEG import maps\n",
    "from SimPEG.electromagnetics import frequency_domain as fdem\n",
    "from SimPEG.utils import plot_1d_layer_model \n",
    "\n",
    "from SimPEG import (\n",
    "    maps,\n",
    "    data,\n",
    "    data_misfit,\n",
    "    inverse_problem,\n",
    "    regularization,\n",
    "    optimization,\n",
    "    directives,\n",
    "    inversion,\n",
    ")\n",
    "\n",
    "from discretize import TensorMesh"
   ]
  },
  {
   "cell_type": "markdown",
   "metadata": {},
   "source": [
    "### Define a 1D layered Model"
   ]
  },
  {
   "cell_type": "code",
   "execution_count": 637,
   "metadata": {},
   "outputs": [
    {
     "name": "stdout",
     "output_type": "stream",
     "text": [
      "Top layer conductivity:  0.01\n",
      "Bottom layer conductivity:  0.04\n"
     ]
    }
   ],
   "source": [
    "conductivity_surface = 10e-3\n",
    "conductivity_middle = 80e-3\n",
    "conductivity_deep = 40e-3\n",
    "conductivity_air = 1e-8\n",
    "\n",
    "print(\"Top layer conductivity: \", conductivity_surface)\n",
    "print(\"Bottom layer conductivity: \", conductivity_deep)"
   ]
  },
  {
   "cell_type": "code",
   "execution_count": 638,
   "metadata": {},
   "outputs": [],
   "source": [
    "# Define layer thicknesses (m)\n",
    "layer_thicknesses = np.array([0.2, 0.4])\n",
    "\n",
    "# Define layer conductivities (S/m)\n",
    "layer_conductivities = np.r_[conductivity_surface, conductivity_middle, conductivity_deep]"
   ]
  },
  {
   "cell_type": "code",
   "execution_count": 639,
   "metadata": {},
   "outputs": [
    {
     "data": {
      "image/png": "[encoded data removed]",
      "text/plain": [
       "<Figure size 800x500 with 1 Axes>"
      ]
     },
     "metadata": {},
     "output_type": "display_data"
    }
   ],
   "source": [
    "fig, ax = plt.subplots(1, 1, figsize=(8, 5))\n",
    "\n",
    "ax = plot_1d_layer_model(layer_thicknesses, layer_conductivities, scale=\"log\", ax=ax)\n",
    "ax.grid(which=\"both\")\n",
    "ax.set_xlabel(r\"Conductivities ($S/m$)\")\n",
    "ax.set_ylim([1, 0])\n",
    "ax.set_title(\"1D Layerd Earth\")\n",
    "plt.show()"
   ]
  },
  {
   "cell_type": "code",
   "execution_count": 640,
   "metadata": {},
   "outputs": [],
   "source": [
    "# LOG-RESISTIVITY MODEL\n",
    "log_conductivities_model = np.log(layer_conductivities)\n",
    "\n",
    "# Define the Mappings\n",
    "log_conductivities_map = maps.ExpMap(nP=len(layer_thicknesses)+1)"
   ]
  },
  {
   "cell_type": "markdown",
   "metadata": {},
   "source": [
    "### Define Survey"
   ]
  },
  {
   "cell_type": "code",
   "execution_count": 641,
   "metadata": {},
   "outputs": [],
   "source": [
    "frequencies = 5*np.logspace(3, 6, 5)\n",
    "coil_separations = np.arange(0.05, 0.7, 0.05)\n",
    "src_z = 0.10  # src is 0.10m above the surface\n",
    "orientation_reciever = \"x\"  # z-oriented dipole for horizontal co-planar loops\n",
    "orientation_source = \"z\"\n",
    "moment  = 1\n",
    "\n",
    "\n",
    "# reciever offset in 3D space\n",
    "rx_offsets = np.vstack([np.r_[sep, 0.0, 0.1] for sep in coil_separations])\n",
    "\n",
    "# create our source list - one source per location\n",
    "src_loc = np.r_[0.0, 0.0, src_z]\n",
    "rx_locs = src_loc + rx_offsets\n",
    "\n",
    "source_list = []\n",
    "for rx in rx_locs:\n",
    "    for freq in frequencies:\n",
    "        receiver_list = []\n",
    "        receiver_list.append(\n",
    "            fdem.receivers.PointMagneticFluxDensitySecondary(\n",
    "                rx,\n",
    "                orientation=orientation_reciever ,\n",
    "                component=\"real\",\n",
    "            )\n",
    "        )\n",
    "        receiver_list.append(\n",
    "            fdem.receivers.PointMagneticFluxDensitySecondary(\n",
    "                rx,\n",
    "                orientation=orientation_reciever ,\n",
    "                component=\"imag\",\n",
    "            )\n",
    "        )\n",
    "\n",
    "        source_list.append(\n",
    "            fdem.sources.MagDipole(\n",
    "                    receiver_list=receiver_list,\n",
    "                    frequency=freq,\n",
    "                    location=src_loc,\n",
    "                    orientation=orientation_source,\n",
    "                    moment=moment,\n",
    "                )\n",
    "        )\n",
    "\n",
    "\n",
    "# Define a 1D FDEM survey\n",
    "survey = fdem.survey.Survey(source_list)\n",
    " "
   ]
  },
  {
   "cell_type": "markdown",
   "metadata": {},
   "source": [
    "### Define forward simulation\n",
    "\n"
   ]
  },
  {
   "cell_type": "code",
   "execution_count": 642,
   "metadata": {},
   "outputs": [],
   "source": [
    "# Define forward simulation\n",
    "\n",
    "simulation= fdem.Simulation1DLayered(\n",
    "    survey=survey,\n",
    "    thicknesses=layer_thicknesses,\n",
    "    sigmaMap=log_conductivities_map,\n",
    ")"
   ]
  },
  {
   "cell_type": "code",
   "execution_count": 643,
   "metadata": {},
   "outputs": [],
   "source": [
    "# Predict 1D FDEM Data\n",
    "dpred= simulation.dpred(log_conductivities_model)"
   ]
  },
  {
   "cell_type": "code",
   "execution_count": 644,
   "metadata": {},
   "outputs": [],
   "source": [
    "# fig, ax = plt.subplots(1, 1, figsize=(6, 6))\n",
    "# ax.loglog(coil_separations, abs(dpred[0::2]), \"r-o\", lw=3)\n",
    "# ax.loglog(coil_separations, abs(dpred[1::2]), \"b:o\", lw=3)\n",
    "# ax.set_xlabel(\"Frequency (Hz)\")\n",
    "# ax.set_ylabel(\"|Bz Secondary| [T]\")\n",
    "# ax.set_title(\"Magnetic Field Data\")\n",
    "# ax.legend([\"Real\", \"Imaginary\"])\n",
    "# plt.grid()\n",
    "# plt.show()"
   ]
  },
  {
   "cell_type": "code",
   "execution_count": 645,
   "metadata": {},
   "outputs": [],
   "source": [
    "# dobs = dpred with uncertainty\n",
    "\n",
    "noise_level = 0.05 \n",
    "noise = noise_level * np.abs(dpred) * np.random.rand(len(dpred))\n",
    "dobs = dpred + noise"
   ]
  },
  {
   "cell_type": "markdown",
   "metadata": {},
   "source": [
    "### Inversion"
   ]
  },
  {
   "cell_type": "code",
   "execution_count": 646,
   "metadata": {},
   "outputs": [],
   "source": [
    "uncertainties = 0.05 * np.abs(dobs) * np.ones(np.shape(dobs))\n",
    "data_object = data.Data(survey, dobs=dobs, noise_floor=uncertainties)"
   ]
  },
  {
   "cell_type": "code",
   "execution_count": 647,
   "metadata": {},
   "outputs": [],
   "source": [
    "# estimated host conductivity (S/m)\n",
    "estimated_conductivity = 1e-2"
   ]
  },
  {
   "cell_type": "code",
   "execution_count": 648,
   "metadata": {},
   "outputs": [],
   "source": [
    "depth_min = 0.1  # top layer thickness\n",
    "depth_max = 1 # depth to lowest layer\n",
    "geometric_factor = 1.1  # rate of thickness increase"
   ]
  },
  {
   "cell_type": "code",
   "execution_count": 649,
   "metadata": {},
   "outputs": [
    {
     "name": "stdout",
     "output_type": "stream",
     "text": [
      "n_layers:  9\n"
     ]
    }
   ],
   "source": [
    "# Increase subsequent layer thicknesses by the geometric factors until\n",
    "# it reaches the maximum layer depth.\n",
    "layer_thicknesses_model = [depth_min]\n",
    "while np.sum(layer_thicknesses_model) < depth_max:\n",
    "    layer_thicknesses_model.append(geometric_factor * layer_thicknesses_model[-1])\n",
    "\n",
    "n_layers = len(layer_thicknesses_model) + 1  # Number of layers\n",
    "print(\"n_layers: \", n_layers)"
   ]
  },
  {
   "cell_type": "code",
   "execution_count": 650,
   "metadata": {},
   "outputs": [],
   "source": [
    "log_conductivity_map = maps.ExpMap(nP=n_layers)"
   ]
  },
  {
   "cell_type": "code",
   "execution_count": 651,
   "metadata": {},
   "outputs": [],
   "source": [
    "# Starting model is log-conductivity values (S/m)\n",
    "starting_conductivity_model = np.log((estimated_conductivity) * np.ones(n_layers))\n",
    "\n",
    "# Reference model is also log-resistivity values (S/m)\n",
    "reference_conductivity_model = starting_conductivity_model.copy()"
   ]
  },
  {
   "cell_type": "code",
   "execution_count": 652,
   "metadata": {},
   "outputs": [],
   "source": [
    "simulation_L2 = fdem.Simulation1DLayered(\n",
    "    survey=survey, thicknesses=layer_thicknesses_model, sigmaMap=log_conductivity_map\n",
    ")"
   ]
  },
  {
   "cell_type": "markdown",
   "metadata": {},
   "source": [
    "### Define Inverse Problem"
   ]
  },
  {
   "cell_type": "code",
   "execution_count": 653,
   "metadata": {},
   "outputs": [],
   "source": [
    "dmis_L2 = data_misfit.L2DataMisfit(simulation=simulation_L2, data=data_object)"
   ]
  },
  {
   "cell_type": "code",
   "execution_count": 654,
   "metadata": {},
   "outputs": [
    {
     "name": "stdout",
     "output_type": "stream",
     "text": [
      "\n",
      "  TensorMesh: 9 cells\n",
      "\n",
      "                      MESH EXTENT             CELL WIDTH      FACTOR\n",
      "  dir    nC        min           max         min       max      max\n",
      "  ---   ---  ---------------------------  ------------------  ------\n",
      "   x      9         -1.34          0.00      0.10      0.19    1.10\n",
      "\n",
      "\n"
     ]
    }
   ],
   "source": [
    "# Define 1D cell widths\n",
    "h = np.r_[layer_thicknesses_model, layer_thicknesses_model[-1]]\n",
    "h = np.flipud(h)\n",
    "\n",
    "# Create regularization mesh\n",
    "regularization_mesh = TensorMesh([h], \"N\")\n",
    "print(regularization_mesh)"
   ]
  },
  {
   "cell_type": "code",
   "execution_count": 655,
   "metadata": {},
   "outputs": [],
   "source": [
    "reg_L2 = regularization.WeightedLeastSquares(\n",
    "    regularization_mesh,\n",
    "    length_scale_x=10.0,\n",
    "    reference_model=reference_conductivity_model,\n",
    "    reference_model_in_smooth=False,\n",
    ")\n",
    "\n",
    "opt_L2 = optimization.InexactGaussNewton(\n",
    "    maxIter=100, maxIterLS=20, maxIterCG=20, tolCG=1e-3\n",
    ")"
   ]
  },
  {
   "cell_type": "code",
   "execution_count": 656,
   "metadata": {},
   "outputs": [],
   "source": [
    "inv_prob_L2 = inverse_problem.BaseInvProblem(dmis_L2, reg_L2, opt_L2)"
   ]
  },
  {
   "cell_type": "code",
   "execution_count": 657,
   "metadata": {},
   "outputs": [],
   "source": [
    "update_jacobi = directives.UpdatePreconditioner(update_every_iteration=True)\n",
    "starting_beta = directives.BetaEstimate_ByEig(beta0_ratio=1e0)\n",
    "beta_schedule = directives.BetaSchedule(coolingFactor=2.0, coolingRate=3)\n",
    "target_misfit = directives.TargetMisfit(chifact=1.0)\n",
    "\n",
    "directives_list_L2 = [\n",
    "                      update_jacobi, \n",
    "                      starting_beta, \n",
    "                      beta_schedule, \n",
    "                      target_misfit,\n",
    "                      ]"
   ]
  },
  {
   "cell_type": "code",
   "execution_count": 658,
   "metadata": {},
   "outputs": [
    {
     "name": "stdout",
     "output_type": "stream",
     "text": [
      "\n",
      "                        SimPEG.InvProblem is setting bfgsH0 to the inverse of the eval2Deriv.\n",
      "                        ***Done using same Solver, and solver_opts as the Simulation1DLayered problem***\n",
      "                        \n",
      "model has any nan: 0\n",
      "============================ Inexact Gauss Newton ============================\n",
      "  #     beta     phi_d     phi_m       f      |proj(x-g)-x|  LS    Comment   \n",
      "-----------------------------------------------------------------------------\n",
      "x0 has any nan: 0\n",
      "   0  4.47e+01  1.64e+04  0.00e+00  1.64e+04    4.18e+03      0              \n",
      "   1  4.47e+01  4.13e+03  2.34e+00  4.23e+03    1.18e+04      2              \n",
      "   2  4.47e+01  3.50e+03  5.49e+00  3.74e+03    1.45e+04      0              \n",
      "   3  2.23e+01  1.08e+02  4.87e+00  2.17e+02    1.63e+03      0              \n",
      "------------------------- STOP! -------------------------\n",
      "1 : |fc-fOld| = 0.0000e+00 <= tolF*(1+|f0|) = 1.6358e+03\n",
      "1 : |xc-x_last| = 2.0259e-01 <= tolX*(1+|x0|) = 1.4816e+00\n",
      "0 : |proj(x-g)-x|    = 1.6257e+03 <= tolG          = 1.0000e-01\n",
      "0 : |proj(x-g)-x|    = 1.6257e+03 <= 1e3*eps       = 1.0000e-02\n",
      "0 : maxIter   =     100    <= iter          =      4\n",
      "------------------------- DONE! -------------------------\n"
     ]
    }
   ],
   "source": [
    "# Here we combine the inverse problem and the set of directives\n",
    "inv_L2 = inversion.BaseInversion(inv_prob_L2, directives_list_L2)\n",
    "\n",
    "# Run the inversion\n",
    "recovered_model_L2 = inv_L2.run(starting_conductivity_model)"
   ]
  },
  {
   "cell_type": "code",
   "execution_count": 659,
   "metadata": {},
   "outputs": [],
   "source": [
    "# dpred_L2 = simulation_L2.dpred(recovered_model_L2)\n",
    "\n",
    "# fig = plt.figure(figsize=(10, 5))\n",
    "# ax = [fig.add_axes([0.1 + ii * 0.5, 0.1, 0.37, 0.85]) for ii in range(2)]\n",
    "# for ii in range(2):\n",
    "#     ax[ii].loglog(coil_separations, abs(dobs[ii::2]), \"k-o\", lw=2)\n",
    "#     ax[ii].loglog(coil_separations, abs(dpred_L2[ii::2]),\"b-o\", lw=2)\n",
    "#     ax[ii].grid(which=\"both\")\n",
    "#     ax[ii].set_xlabel(\"Frequency (Hz)\")\n",
    "#     ax[ii].set_ylabel(\"|Bz Secondary| [T]\")\n",
    "#     ax[ii].legend([\"Observed\", \"L2 Inversion\"])\n",
    "#     if ii == 1:\n",
    "#         ax[ii].set_ylabel(\"\")\n",
    "\n",
    "# ax[0].set_title(\"Real Component\")\n",
    "# ax[1].set_title(\"Imaginary Component\")\n",
    "# plt.show()"
   ]
  },
  {
   "cell_type": "code",
   "execution_count": 660,
   "metadata": {},
   "outputs": [
    {
     "data": {
      "image/png": "[encoded data removed]",
      "text/plain": [
       "<Figure size 600x600 with 1 Axes>"
      ]
     },
     "metadata": {},
     "output_type": "display_data"
    }
   ],
   "source": [
    "# Plot true model and recovered model\n",
    "fig, ax = plt.subplots(1,1, figsize=(6, 6))\n",
    "\n",
    "plot_1d_layer_model(layer_thicknesses, layer_conductivities, scale=\"log\", ax=ax, color=\"k\")\n",
    "plot_1d_layer_model(layer_thicknesses_model, log_conductivity_map * recovered_model_L2, ax=ax, color=\"b\")\n",
    "ax.grid(which=\"both\")\n",
    "ax.set_xlabel(r\"Resistivity ($\\Omega m$)\")\n",
    "x_min, x_max = layer_conductivities.min(), layer_conductivities.max()\n",
    "ax.set_xlim(0.5 * x_min, 1.5 * x_max)\n",
    "ax.legend([\"True Model\", \"L2-Model\"])\n",
    "ax.set_title(\"Perpendicular\")\n",
    "plt.show()"
   ]
  }
 ],
 "metadata": {
  "kernelspec": {
   "display_name": "eosc454",
   "language": "python",
   "name": "python3"
  },
  "language_info": {
   "codemirror_mode": {
    "name": "ipython",
    "version": 3
   },
   "file_extension": ".py",
   "mimetype": "text/x-python",
   "name": "python",
   "nbconvert_exporter": "python",
   "pygments_lexer": "ipython3",
   "version": "3.11.7"
  }
 },
 "nbformat": 4,
 "nbformat_minor": 2
}
