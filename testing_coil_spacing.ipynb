{
 "cells": [
  {
   "cell_type": "code",
   "execution_count": 29,
   "metadata": {},
   "outputs": [],
   "source": [
    "# import packages\n",
    "import numpy as np\n",
    "import os\n",
    "from matplotlib import pyplot as plt\n",
    "\n",
    "from SimPEG import maps\n",
    "from SimPEG.electromagnetics import frequency_domain as fdem\n",
    "from SimPEG.utils import plot_1d_layer_model\n",
    "\n",
    "from SimPEG import (\n",
    "    maps,\n",
    "    data,\n",
    "    data_misfit,\n",
    "    inverse_problem,\n",
    "    regularization,\n",
    "    optimization,\n",
    "    directives,\n",
    "    inversion,\n",
    ")\n",
    "\n",
    "from discretize import TensorMesh"
   ]
  },
  {
   "cell_type": "code",
   "execution_count": 30,
   "metadata": {},
   "outputs": [],
   "source": [
    "src_z = 0.25  # src is 0.25m above the surface\n",
    "orientation = \"z\"  # z-oriented dipole for horizontal co-planar loops\n",
    "freq = 1e3\n",
    "\n",
    "# reciever offset in 3D space\n",
    "coil_separations = [0.05, 0.15, 0.20, 0.25, 0.3]\n",
    "rx_offsets = np.vstack([np.r_[sep, 0.0, 0.0] for sep in coil_separations])\n",
    "\n",
    "# create our source list - one source per location\n",
    "source_list = []\n",
    "\n",
    "src_loc = np.r_[0.0, 0.0, src_z]\n",
    "\n",
    "rx_locs = src_loc - rx_offsets\n",
    "\n",
    "for rx in rx_locs:\n",
    "    rx_real = fdem.receivers.PointMagneticFluxDensitySecondary(\n",
    "        locations=rx, orientation=orientation, component=\"real\"\n",
    "    )\n",
    "    rx_imag = fdem.receivers.PointMagneticFluxDensitySecondary(\n",
    "        locations=rx, orientation=orientation, component=\"imag\"\n",
    "    )\n",
    "\n",
    "    src = fdem.sources.MagDipole(\n",
    "        receiver_list=[rx_real, rx_imag],\n",
    "        location=src_loc,\n",
    "        orientation=orientation,\n",
    "        frequency=freq,\n",
    "    )\n",
    "\n",
    "source_list.append(src)\n",
    "\n",
    "# create the survey and problem objects for running the forward simulation\n",
    "survey = fdem.survey.Survey(source_list)"
   ]
  },
  {
   "cell_type": "code",
   "execution_count": 31,
   "metadata": {},
   "outputs": [],
   "source": [
    "# Define layer thicknesses (m)\n",
    "layer_thicknesses = np.array([0.25, 0.5])\n",
    "\n",
    "# Define layer conductivities (S/m)\n",
    "layer_conductivities = np.r_[1e-3, 1e-2, 1e-4]"
   ]
  },
  {
   "cell_type": "code",
   "execution_count": 25,
   "metadata": {},
   "outputs": [
    {
     "data": {
      "image/png": "[encoded data removed]",
      "text/plain": [
       "<Figure size 800x500 with 1 Axes>"
      ]
     },
     "metadata": {},
     "output_type": "display_data"
    }
   ],
   "source": [
    "fig, ax = plt.subplots(1, 1, figsize=(8, 5))\n",
    "\n",
    "ax = plot_1d_layer_model(layer_thicknesses, layer_conductivities, scale=\"log\", ax=ax)\n",
    "ax.grid(which=\"both\")\n",
    "ax.set_xlabel(r\"Conductivities ($S/m$)\")\n",
    "ax.set_ylim([1, 0])\n",
    "ax.set_title(\"1D Layerd Earth\")\n",
    "plt.show()"
   ]
  },
  {
   "cell_type": "code",
   "execution_count": 26,
   "metadata": {},
   "outputs": [],
   "source": [
    "# LOG-RESISTIVITY MODEL\n",
    "log_conductivities_model = np.log(layer_conductivities)\n",
    "\n",
    "# Define the Mappings\n",
    "log_conductivities_map = maps.ExpMap(nP=len(layer_thicknesses)+1)"
   ]
  },
  {
   "cell_type": "code",
   "execution_count": 27,
   "metadata": {},
   "outputs": [],
   "source": [
    "# Define forward simulation\n",
    "\n",
    "simulation= fdem.Simulation1DLayered(\n",
    "    survey=survey,\n",
    "    thicknesses=layer_thicknesses,\n",
    "    sigmaMap=log_conductivities_map\n",
    ")"
   ]
  },
  {
   "cell_type": "code",
   "execution_count": 33,
   "metadata": {},
   "outputs": [
    {
     "ename": "ValueError",
     "evalue": "dimension mismatch",
     "output_type": "error",
     "traceback": [
      "\u001b[1;31m---------------------------------------------------------------------------\u001b[0m",
      "\u001b[1;31mValueError\u001b[0m                                Traceback (most recent call last)",
      "Cell \u001b[1;32mIn[33], line 2\u001b[0m\n\u001b[0;32m      1\u001b[0m \u001b[38;5;66;03m# Predict 1D FDEM Data\u001b[39;00m\n\u001b[1;32m----> 2\u001b[0m dpred\u001b[38;5;241m=\u001b[39m \u001b[43msimulation\u001b[49m\u001b[38;5;241;43m.\u001b[39;49m\u001b[43mdpred\u001b[49m\u001b[43m(\u001b[49m\u001b[43mlog_conductivities_model\u001b[49m\u001b[43m)\u001b[49m\n",
      "File \u001b[1;32mc:\\Users\\sabri\\anaconda3\\envs\\eosc454\\Lib\\site-packages\\SimPEG\\electromagnetics\\frequency_domain\\simulation_1d.py:97\u001b[0m, in \u001b[0;36mSimulation1DLayered.dpred\u001b[1;34m(self, m, f)\u001b[0m\n\u001b[0;32m     91\u001b[0m \u001b[38;5;250m\u001b[39m\u001b[38;5;124;03m\"\"\"\u001b[39;00m\n\u001b[0;32m     92\u001b[0m \u001b[38;5;124;03mReturn predicted data.\u001b[39;00m\n\u001b[0;32m     93\u001b[0m \u001b[38;5;124;03mPredicted data, (`_pred`) are computed when\u001b[39;00m\n\u001b[0;32m     94\u001b[0m \u001b[38;5;124;03mself.fields is called.\u001b[39;00m\n\u001b[0;32m     95\u001b[0m \u001b[38;5;124;03m\"\"\"\u001b[39;00m\n\u001b[0;32m     96\u001b[0m \u001b[38;5;28;01mif\u001b[39;00m f \u001b[38;5;129;01mis\u001b[39;00m \u001b[38;5;28;01mNone\u001b[39;00m:\n\u001b[1;32m---> 97\u001b[0m     f \u001b[38;5;241m=\u001b[39m \u001b[38;5;28;43mself\u001b[39;49m\u001b[38;5;241;43m.\u001b[39;49m\u001b[43mfields\u001b[49m\u001b[43m(\u001b[49m\u001b[43mm\u001b[49m\u001b[43m)\u001b[49m\n\u001b[0;32m     99\u001b[0m \u001b[38;5;28;01mreturn\u001b[39;00m f\n",
      "File \u001b[1;32mc:\\Users\\sabri\\anaconda3\\envs\\eosc454\\Lib\\site-packages\\SimPEG\\electromagnetics\\frequency_domain\\simulation_1d.py:126\u001b[0m, in \u001b[0;36mSimulation1DLayered.fields\u001b[1;34m(self, m)\u001b[0m\n\u001b[0;32m    124\u001b[0m rTE \u001b[38;5;241m=\u001b[39m rTE[i_freq]\n\u001b[0;32m    125\u001b[0m rTE \u001b[38;5;241m=\u001b[39m np\u001b[38;5;241m.\u001b[39mtake_along_axis(rTE, inv_lambs, axis\u001b[38;5;241m=\u001b[39m\u001b[38;5;241m1\u001b[39m)\n\u001b[1;32m--> 126\u001b[0m v \u001b[38;5;241m=\u001b[39m \u001b[43mW\u001b[49m\u001b[43m \u001b[49m\u001b[38;5;241;43m@\u001b[39;49m\u001b[43m \u001b[49m\u001b[43m(\u001b[49m\u001b[43m(\u001b[49m\u001b[43mC0s\u001b[49m\u001b[43m \u001b[49m\u001b[38;5;241;43m*\u001b[39;49m\u001b[43m \u001b[49m\u001b[43mrTE\u001b[49m\u001b[43m)\u001b[49m\u001b[43m \u001b[49m\u001b[38;5;241;43m@\u001b[39;49m\u001b[43m \u001b[49m\u001b[38;5;28;43mself\u001b[39;49m\u001b[38;5;241;43m.\u001b[39;49m\u001b[43m_fhtfilt\u001b[49m\u001b[38;5;241;43m.\u001b[39;49m\u001b[43mj0\u001b[49m\u001b[43m \u001b[49m\u001b[38;5;241;43m+\u001b[39;49m\u001b[43m \u001b[49m\u001b[43m(\u001b[49m\u001b[43mC1s\u001b[49m\u001b[43m \u001b[49m\u001b[38;5;241;43m*\u001b[39;49m\u001b[43m \u001b[49m\u001b[43mrTE\u001b[49m\u001b[43m)\u001b[49m\u001b[43m \u001b[49m\u001b[38;5;241;43m@\u001b[39;49m\u001b[43m \u001b[49m\u001b[38;5;28;43mself\u001b[39;49m\u001b[38;5;241;43m.\u001b[39;49m\u001b[43m_fhtfilt\u001b[49m\u001b[38;5;241;43m.\u001b[39;49m\u001b[43mj1\u001b[49m\u001b[43m)\u001b[49m\n\u001b[0;32m    128\u001b[0m \u001b[38;5;28;01mreturn\u001b[39;00m \u001b[38;5;28mself\u001b[39m\u001b[38;5;241m.\u001b[39m_project_to_data(v)\n",
      "File \u001b[1;32mc:\\Users\\sabri\\anaconda3\\envs\\eosc454\\Lib\\site-packages\\scipy\\sparse\\_base.py:695\u001b[0m, in \u001b[0;36m_spbase.__matmul__\u001b[1;34m(self, other)\u001b[0m\n\u001b[0;32m    692\u001b[0m \u001b[38;5;28;01mif\u001b[39;00m isscalarlike(other):\n\u001b[0;32m    693\u001b[0m     \u001b[38;5;28;01mraise\u001b[39;00m \u001b[38;5;167;01mValueError\u001b[39;00m(\u001b[38;5;124m\"\u001b[39m\u001b[38;5;124mScalar operands are not allowed, \u001b[39m\u001b[38;5;124m\"\u001b[39m\n\u001b[0;32m    694\u001b[0m                      \u001b[38;5;124m\"\u001b[39m\u001b[38;5;124muse \u001b[39m\u001b[38;5;124m'\u001b[39m\u001b[38;5;124m*\u001b[39m\u001b[38;5;124m'\u001b[39m\u001b[38;5;124m instead\u001b[39m\u001b[38;5;124m\"\u001b[39m)\n\u001b[1;32m--> 695\u001b[0m \u001b[38;5;28;01mreturn\u001b[39;00m \u001b[38;5;28;43mself\u001b[39;49m\u001b[38;5;241;43m.\u001b[39;49m\u001b[43m_matmul_dispatch\u001b[49m\u001b[43m(\u001b[49m\u001b[43mother\u001b[49m\u001b[43m)\u001b[49m\n",
      "File \u001b[1;32mc:\\Users\\sabri\\anaconda3\\envs\\eosc454\\Lib\\site-packages\\scipy\\sparse\\_base.py:624\u001b[0m, in \u001b[0;36m_spbase._matmul_dispatch\u001b[1;34m(self, other)\u001b[0m\n\u001b[0;32m    621\u001b[0m \u001b[38;5;28;01mif\u001b[39;00m other\u001b[38;5;241m.\u001b[39mndim \u001b[38;5;241m==\u001b[39m \u001b[38;5;241m1\u001b[39m \u001b[38;5;129;01mor\u001b[39;00m other\u001b[38;5;241m.\u001b[39mndim \u001b[38;5;241m==\u001b[39m \u001b[38;5;241m2\u001b[39m \u001b[38;5;129;01mand\u001b[39;00m other\u001b[38;5;241m.\u001b[39mshape[\u001b[38;5;241m1\u001b[39m] \u001b[38;5;241m==\u001b[39m \u001b[38;5;241m1\u001b[39m:\n\u001b[0;32m    622\u001b[0m     \u001b[38;5;66;03m# dense row or column vector\u001b[39;00m\n\u001b[0;32m    623\u001b[0m     \u001b[38;5;28;01mif\u001b[39;00m other\u001b[38;5;241m.\u001b[39mshape \u001b[38;5;241m!=\u001b[39m (N,) \u001b[38;5;129;01mand\u001b[39;00m other\u001b[38;5;241m.\u001b[39mshape \u001b[38;5;241m!=\u001b[39m (N, \u001b[38;5;241m1\u001b[39m):\n\u001b[1;32m--> 624\u001b[0m         \u001b[38;5;28;01mraise\u001b[39;00m \u001b[38;5;167;01mValueError\u001b[39;00m(\u001b[38;5;124m'\u001b[39m\u001b[38;5;124mdimension mismatch\u001b[39m\u001b[38;5;124m'\u001b[39m)\n\u001b[0;32m    626\u001b[0m     result \u001b[38;5;241m=\u001b[39m \u001b[38;5;28mself\u001b[39m\u001b[38;5;241m.\u001b[39m_matmul_vector(np\u001b[38;5;241m.\u001b[39mravel(other))\n\u001b[0;32m    628\u001b[0m     \u001b[38;5;28;01mif\u001b[39;00m \u001b[38;5;28misinstance\u001b[39m(other, np\u001b[38;5;241m.\u001b[39mmatrix):\n",
      "\u001b[1;31mValueError\u001b[0m: dimension mismatch"
     ]
    }
   ],
   "source": [
    "# Predict 1D FDEM Data\n",
    "dpred= simulation.dpred(log_conductivities_model)"
   ]
  }
 ],
 "metadata": {
  "kernelspec": {
   "display_name": "eosc454",
   "language": "python",
   "name": "python3"
  },
  "language_info": {
   "codemirror_mode": {
    "name": "ipython",
    "version": 3
   },
   "file_extension": ".py",
   "mimetype": "text/x-python",
   "name": "python",
   "nbconvert_exporter": "python",
   "pygments_lexer": "ipython3",
   "version": "3.11.7"
  }
 },
 "nbformat": 4,
 "nbformat_minor": 2
}
