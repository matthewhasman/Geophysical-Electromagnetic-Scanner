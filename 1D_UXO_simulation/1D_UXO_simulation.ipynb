{
 "cells": [
  {
   "cell_type": "markdown",
   "metadata": {},
   "source": [
    "# End-to-end 1D Simulation for Geophysical Inversion with UXO Detection"
   ]
  },
  {
   "cell_type": "code",
   "execution_count": 21,
   "metadata": {},
   "outputs": [],
   "source": [
    "import numpy as np\n",
    "\n",
    "class UXO_object:\n",
    "    def __init__(self,\n",
    "                 center: np.ndarray,\n",
    "                 major_axis: float,\n",
    "                 minor_axis: float,\n",
    "                 strike: float,\n",
    "                 dip: float):\n",
    "        self.center = center\n",
    "        self.major_axis = major_axis\n",
    "        self.minor_axis = minor_axis\n",
    "        self.strike = strike\n",
    "        self.dip = dip\n",
    "\n",
    "    def _compute_rotation_matrix(self, inverse: bool = False):\n",
    "        # y-axis rotation\n",
    "        theta = self.dip * np.pi / 180\n",
    "        Ay = np.r_[\n",
    "            np.c_[np.cos(theta), 0.0, -np.sin(theta)],\n",
    "            np.c_[0.0, 1.0, 0.0],\n",
    "            np.c_[np.sin(theta), 0.0, np.cos(theta)],\n",
    "        ]\n",
    "\n",
    "        # z-axis rotation\n",
    "        phi = self.strike * np.pi / 180\n",
    "        Az = np.r_[\n",
    "            np.c_[np.cos(phi), -np.sin(phi), 0.0],\n",
    "            np.c_[np.sin(phi), np.cos(phi), 0.0],\n",
    "            np.c_[0.0, 0.0, 1.0],\n",
    "        ]\n",
    "\n",
    "        return np.dot(Ay, Az) if not inverse else np.dot(Az.T, Ay.T)\n",
    "\n",
    "    def define_pts(self, n_points: int = 10):\n",
    "        raise NotImplementedError\n",
    "    \n",
    "    def get_vertical_intersects(self, x: float, y: float):\n",
    "        rot = self._compute_rotation_matrix()\n",
    "        rot_inv = self._compute_rotation_matrix(inverse=True)\n",
    "        pt = np.dot(np.array([x, y, 0]), rot_inv)\n",
    "        vec = np.dot(np.array([0, 0, 1]), rot_inv)\n",
    "\n",
    "        # find quadratic coefficients\n",
    "        a = (vec[0]**2 + vec[1]**2)/self.minor_axis**2 + vec[2]**2/self.major_axis**2\n",
    "        b = 2*((pt[0]*vec[0]+pt[1]*vec[1])/self.minor_axis**2 + pt[2]*vec[2]/self.major_axis**2)\n",
    "        c = (pt[0]**2 + pt[1]**2)/self.minor_axis**2 + pt[2]**2/self.major_axis**2 - 1\n",
    "\n",
    "        # find intersection points\n",
    "        discriminant = b**2 - 4*a*c\n",
    "        if discriminant < 0:\n",
    "            return None\n",
    "        else:\n",
    "            t1 = (-b + np.sqrt(discriminant))/(2*a)\n",
    "            t2 = (-b - np.sqrt(discriminant))/(2*a)\n",
    "            z1 = np.dot(np.array([pt + t1*vec]), rot)[0,2]\n",
    "            z2 = np.dot(np.array([pt + t2*vec]), rot)[0,2]\n",
    "            return z1, z2"
   ]
  },
  {
   "cell_type": "code",
   "execution_count": 25,
   "metadata": {},
   "outputs": [
    {
     "data": {
      "text/plain": [
       "(2.0, -2.0)"
      ]
     },
     "execution_count": 25,
     "metadata": {},
     "output_type": "execute_result"
    }
   ],
   "source": [
    "uxo = UXO_object(np.array([0, 0, -10]), 2, 1, 0, 0)\n",
    "uxo.get_vertical_intersects(0, 0)"
   ]
  }
 ],
 "metadata": {
  "kernelspec": {
   "display_name": "Python 3",
   "language": "python",
   "name": "python3"
  },
  "language_info": {
   "codemirror_mode": {
    "name": "ipython",
    "version": 3
   },
   "file_extension": ".py",
   "mimetype": "text/x-python",
   "name": "python",
   "nbconvert_exporter": "python",
   "pygments_lexer": "ipython3",
   "version": "3.10.11"
  }
 },
 "nbformat": 4,
 "nbformat_minor": 2
}
