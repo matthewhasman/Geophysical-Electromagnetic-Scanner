{
 "cells": [
  {
   "cell_type": "markdown",
   "metadata": {},
   "source": [
    "# Forward Simulation of UXO Detection"
   ]
  },
  {
   "cell_type": "code",
   "execution_count": 76,
   "metadata": {},
   "outputs": [],
   "source": [
    "# SimPEG functionality\n",
    "import simpeg.electromagnetics.frequency_domain as fdem\n",
    "from simpeg import maps\n",
    "from simpeg.utils import plot_1d_layer_model\n",
    "\n",
    "# Common Python functionality\n",
    "import os\n",
    "import numpy as np\n",
    "from scipy.constants import mu_0\n",
    "import matplotlib as mpl\n",
    "import matplotlib.pyplot as plt\n",
    "\n",
    "# import uxo object\n",
    "from UXO_object import UXO_object\n",
    "\n",
    "mpl.rcParams.update({\"font.size\": 14})\n",
    "\n",
    "write_output = False  # Optional"
   ]
  },
  {
   "cell_type": "markdown",
   "metadata": {},
   "source": [
    "## Define System Parameters"
   ]
  },
  {
   "cell_type": "code",
   "execution_count": 77,
   "metadata": {},
   "outputs": [],
   "source": [
    "z0 = 0.1 # height of our sensor above the ground (m)\n",
    "moment = 1 # dipole moment in A*m^2\n",
    "coil_spacing = 1 # spacing between Rx and Tx coils (m)\n",
    "min_freq = 1e4 # minimum frequency (Hz)\n",
    "max_freq = 1e5 # maximum frequency (Hz)\n",
    "num_freqs = 5 # number of frequencies to use in simulation\n",
    "soil_conductivity = 1 # conductivity of the soil (S/m)\n",
    "uxo_conductivity = 1e6 # conductivity of the UXO (S/m)"
   ]
  },
  {
   "cell_type": "markdown",
   "metadata": {},
   "source": [
    "## Define Classes\n",
    "Todo: extract these to their own files and add better readability"
   ]
  },
  {
   "cell_type": "code",
   "execution_count": 78,
   "metadata": {},
   "outputs": [],
   "source": [
    "class Earth_Layers_1D:\n",
    "    def __init__(self, background_conductivity, uxo_object):\n",
    "        self.background_conductivity = background_conductivity\n",
    "        self.uxo_object = uxo_object\n",
    "    \n",
    "    def layers_at_pt(self, pt: tuple):\n",
    "        intersects = self.uxo_object.get_vertical_intersects(pt[0], pt[1])\n",
    "        if intersects is None:\n",
    "            layer_thicknesses = np.array([])\n",
    "            layer_conductivities = np.array([self.background_conductivity])\n",
    "        else:\n",
    "            layer_thicknesses = np.abs(np.array(intersects))\n",
    "            layer_conductivities = np.r_[self.background_conductivity,\n",
    "                                            self.uxo_object.conductivity,\n",
    "                                            self.background_conductivity]\n",
    "        return layer_thicknesses, layer_conductivities\n",
    "\n",
    "    def plot_layered_earth(self, pt: tuple):\n",
    "        layer_thicknesses, layer_conductivities = self.layers_at_pt(pt)\n",
    "\n",
    "        fig, ax = plt.subplots(1, 1, figsize=(8, 5))\n",
    "\n",
    "        ax = plot_1d_layer_model(layer_thicknesses, layer_conductivities, scale=\"log\", ax=ax)\n",
    "        ax.grid(which=\"both\")\n",
    "        ax.set_xlabel(r\"Conductivities ($S/m$)\")\n",
    "        ax.set_ylim([3, 0])\n",
    "        ax.set_title(\"1D Layerd Earth\")\n",
    "        plt.show()"
   ]
  },
  {
   "cell_type": "code",
   "execution_count": 79,
   "metadata": {},
   "outputs": [],
   "source": [
    "class Forward_Freq_Simulation:\n",
    "    def __init__(self, frequencies: np.ndarray, z0: float, moment: float, coil_spacing: float):\n",
    "        self.survey = self._create_survey(frequencies, z0, moment, coil_spacing)\n",
    "\n",
    "    def _create_survey(self, frequencies: np.ndarray, z0: float, moment: float, coil_spacing: float):\n",
    "        source_location = np.array([0.0, 0.0, z0])\n",
    "        source_orientation = \"z\"\n",
    "\n",
    "        # Receiver properties\n",
    "        receiver_locations = np.array([coil_spacing, 0.0, z0])\n",
    "        receiver_orientation = \"z\"\n",
    "        data_type = \"ppm\"  # \"secondary\", \"total\" or \"ppm\"\n",
    "\n",
    "        source_list = []  # create empty list for source objects\n",
    "\n",
    "        # loop over all sources\n",
    "        for freq in frequencies:\n",
    "            # Define receivers that measure real and imaginary component\n",
    "            # magnetic field data in ppm.\n",
    "            receiver_list = []\n",
    "            receiver_list.append(\n",
    "                fdem.receivers.PointMagneticFieldSecondary(\n",
    "                    receiver_locations,\n",
    "                    orientation=receiver_orientation,\n",
    "                    data_type=data_type,\n",
    "                    component=\"real\",\n",
    "                )\n",
    "            )\n",
    "            receiver_list.append(\n",
    "                fdem.receivers.PointMagneticFieldSecondary(\n",
    "                    receiver_locations,\n",
    "                    orientation=receiver_orientation,\n",
    "                    data_type=data_type,\n",
    "                    component=\"imag\",\n",
    "                )\n",
    "            )\n",
    "\n",
    "            # Define a magnetic dipole source at each frequency\n",
    "            source_list.append(\n",
    "                fdem.sources.MagDipole(\n",
    "                    receiver_list=receiver_list,\n",
    "                    frequency=freq,\n",
    "                    location=source_location,\n",
    "                    orientation=source_orientation,\n",
    "                    moment=moment,\n",
    "                )\n",
    "            )\n",
    "\n",
    "        # Define the FDEM survey\n",
    "        return fdem.survey.Survey(source_list)\n",
    "    \n",
    "    def predict_data(self, layer_thicknesses, layer_conductivities):\n",
    "        log_conductivities_model = np.log(layer_conductivities)\n",
    "        log_conductivities_map = maps.ExpMap(nP=len(layer_thicknesses)+1)\n",
    "        \n",
    "        simulation= fdem.Simulation1DLayered(\n",
    "            survey=self.survey,\n",
    "            thicknesses=layer_thicknesses,\n",
    "            sigmaMap=log_conductivities_map,\n",
    "        )\n",
    "\n",
    "        # Predict 1D FDEM Data\n",
    "        return simulation.dpred(log_conductivities_model)"
   ]
  },
  {
   "cell_type": "markdown",
   "metadata": {},
   "source": [
    "## Define Simulated Data and x,y Grid"
   ]
  },
  {
   "cell_type": "code",
   "execution_count": 80,
   "metadata": {},
   "outputs": [],
   "source": [
    "# define frequencies\n",
    "frequencies = np.logspace(np.log10(min_freq), np.log10(max_freq), num_freqs)\n",
    "\n",
    "# create uxo object\n",
    "uxo = UXO_object(np.array([0.0, 0.0, -1.0]), 0.4, 0.2, 0, 0, uxo_conductivity)\n",
    "\n",
    "# create layered earth object\n",
    "earth = Earth_Layers_1D(soil_conductivity, uxo)\n",
    "\n",
    "# define x,y grid\n",
    "min_dist = -1\n",
    "max_dist = 1\n",
    "n_points = 10\n",
    "x_vals = np.linspace(min_dist, max_dist, n_points)\n",
    "y_vals = np.linspace(min_dist, max_dist, n_points)\n",
    "\n",
    "# define the forward simulation object\n",
    "sim = Forward_Freq_Simulation(frequencies, z0, moment, coil_spacing)"
   ]
  },
  {
   "cell_type": "markdown",
   "metadata": {},
   "source": [
    "## Run the simulation and save the data"
   ]
  },
  {
   "cell_type": "code",
   "execution_count": 88,
   "metadata": {},
   "outputs": [],
   "source": [
    "import pickle\n",
    "\n",
    "# get predicted data at each xy point\n",
    "data_list = []\n",
    "for x in x_vals:\n",
    "    for y in y_vals:\n",
    "        # get predicted data\n",
    "        dpred = sim.predict_data(*earth.layers_at_pt((x, y)))\n",
    "        # add noise to the data\n",
    "        noise = (\n",
    "            0.05\n",
    "            * np.abs(dpred)\n",
    "            * np.random.normal(size=len(dpred))\n",
    "        )\n",
    "        dpred_out = dpred + noise\n",
    "        # store the data in a dictionary\n",
    "        data_dict = {\"x\": x,\n",
    "                     \"y\": y,\n",
    "                     \"frequencies\": frequencies,\n",
    "                     \"hz_real\": dpred_out[0::2],\n",
    "                     \"hz_imag\": dpred_out[1::2]}\n",
    "        data_list.append(data_dict)\n",
    "\n",
    "# write data to file\n",
    "os.makedirs(\"../forward_data\", exist_ok=True)\n",
    "with open(\"../forward_data/forward_simulation_data_test0.pkl\", \"wb\") as f:\n",
    "    pickle.dump(data_list, f)"
   ]
  },
  {
   "cell_type": "markdown",
   "metadata": {},
   "source": [
    "## Plot the Data\n",
    "Todo: make this work with the new data structure"
   ]
  },
  {
   "cell_type": "code",
   "execution_count": 84,
   "metadata": {},
   "outputs": [
    {
     "ename": "ValueError",
     "evalue": "x and y must have same first dimension, but have shapes (5,) and (50, 10)",
     "output_type": "error",
     "traceback": [
      "\u001b[1;31m---------------------------------------------------------------------------\u001b[0m",
      "\u001b[1;31mValueError\u001b[0m                                Traceback (most recent call last)",
      "Cell \u001b[1;32mIn [84], line 6\u001b[0m\n\u001b[0;32m      3\u001b[0m fig \u001b[38;5;241m=\u001b[39m plt\u001b[38;5;241m.\u001b[39mfigure(figsize\u001b[38;5;241m=\u001b[39m(\u001b[38;5;241m10\u001b[39m, \u001b[38;5;241m5\u001b[39m))\n\u001b[0;32m      5\u001b[0m ax1 \u001b[38;5;241m=\u001b[39m fig\u001b[38;5;241m.\u001b[39madd_axes([\u001b[38;5;241m0.1\u001b[39m, \u001b[38;5;241m0.1\u001b[39m, \u001b[38;5;241m0.4\u001b[39m, \u001b[38;5;241m0.85\u001b[39m])\n\u001b[1;32m----> 6\u001b[0m \u001b[43max1\u001b[49m\u001b[38;5;241;43m.\u001b[39;49m\u001b[43msemilogx\u001b[49m\u001b[43m(\u001b[49m\u001b[43mfrequencies\u001b[49m\u001b[43m,\u001b[49m\u001b[43m \u001b[49m\u001b[43mdpred\u001b[49m\u001b[43m[\u001b[49m\u001b[38;5;241;43m0\u001b[39;49m\u001b[43m:\u001b[49m\u001b[43m:\u001b[49m\u001b[38;5;241;43m2\u001b[39;49m\u001b[43m]\u001b[49m\u001b[43m,\u001b[49m\u001b[43m \u001b[49m\u001b[38;5;124;43m\"\u001b[39;49m\u001b[38;5;124;43mb-o\u001b[39;49m\u001b[38;5;124;43m\"\u001b[39;49m\u001b[43m,\u001b[49m\u001b[43m \u001b[49m\u001b[43mlw\u001b[49m\u001b[38;5;241;43m=\u001b[39;49m\u001b[38;5;241;43m3\u001b[39;49m\u001b[43m,\u001b[49m\u001b[43m \u001b[49m\u001b[43mms\u001b[49m\u001b[38;5;241;43m=\u001b[39;49m\u001b[38;5;241;43m10\u001b[39;49m\u001b[43m)\u001b[49m\n\u001b[0;32m      7\u001b[0m ax1\u001b[38;5;241m.\u001b[39mgrid()\n\u001b[0;32m      8\u001b[0m ax1\u001b[38;5;241m.\u001b[39mset_ylim(ylim)\n",
      "File \u001b[1;32m~\\AppData\\Local\\Packages\\PythonSoftwareFoundation.Python.3.10_qbz5n2kfra8p0\\LocalCache\\local-packages\\Python310\\site-packages\\matplotlib\\axes\\_axes.py:1850\u001b[0m, in \u001b[0;36mAxes.semilogx\u001b[1;34m(self, *args, **kwargs)\u001b[0m\n\u001b[0;32m   1846\u001b[0m d \u001b[38;5;241m=\u001b[39m {k: v \u001b[38;5;28;01mfor\u001b[39;00m k, v \u001b[38;5;129;01min\u001b[39;00m kwargs\u001b[38;5;241m.\u001b[39mitems()\n\u001b[0;32m   1847\u001b[0m      \u001b[38;5;28;01mif\u001b[39;00m k \u001b[38;5;129;01min\u001b[39;00m [\u001b[38;5;124m'\u001b[39m\u001b[38;5;124mbase\u001b[39m\u001b[38;5;124m'\u001b[39m, \u001b[38;5;124m'\u001b[39m\u001b[38;5;124msubs\u001b[39m\u001b[38;5;124m'\u001b[39m, \u001b[38;5;124m'\u001b[39m\u001b[38;5;124mnonpositive\u001b[39m\u001b[38;5;124m'\u001b[39m,\n\u001b[0;32m   1848\u001b[0m               \u001b[38;5;124m'\u001b[39m\u001b[38;5;124mbasex\u001b[39m\u001b[38;5;124m'\u001b[39m, \u001b[38;5;124m'\u001b[39m\u001b[38;5;124msubsx\u001b[39m\u001b[38;5;124m'\u001b[39m, \u001b[38;5;124m'\u001b[39m\u001b[38;5;124mnonposx\u001b[39m\u001b[38;5;124m'\u001b[39m]}\n\u001b[0;32m   1849\u001b[0m \u001b[38;5;28mself\u001b[39m\u001b[38;5;241m.\u001b[39mset_xscale(\u001b[38;5;124m'\u001b[39m\u001b[38;5;124mlog\u001b[39m\u001b[38;5;124m'\u001b[39m, \u001b[38;5;241m*\u001b[39m\u001b[38;5;241m*\u001b[39md)\n\u001b[1;32m-> 1850\u001b[0m \u001b[38;5;28;01mreturn\u001b[39;00m \u001b[38;5;28mself\u001b[39m\u001b[38;5;241m.\u001b[39mplot(\n\u001b[0;32m   1851\u001b[0m     \u001b[38;5;241m*\u001b[39margs, \u001b[38;5;241m*\u001b[39m\u001b[38;5;241m*\u001b[39m{k: v \u001b[38;5;28;01mfor\u001b[39;00m k, v \u001b[38;5;129;01min\u001b[39;00m kwargs\u001b[38;5;241m.\u001b[39mitems() \u001b[38;5;28;01mif\u001b[39;00m k \u001b[38;5;129;01mnot\u001b[39;00m \u001b[38;5;129;01min\u001b[39;00m d})\n",
      "File \u001b[1;32m~\\AppData\\Local\\Packages\\PythonSoftwareFoundation.Python.3.10_qbz5n2kfra8p0\\LocalCache\\local-packages\\Python310\\site-packages\\matplotlib\\axes\\_axes.py:1662\u001b[0m, in \u001b[0;36mAxes.plot\u001b[1;34m(self, scalex, scaley, data, *args, **kwargs)\u001b[0m\n\u001b[0;32m   1419\u001b[0m \u001b[38;5;124;03m\"\"\"\u001b[39;00m\n\u001b[0;32m   1420\u001b[0m \u001b[38;5;124;03mPlot y versus x as lines and/or markers.\u001b[39;00m\n\u001b[0;32m   1421\u001b[0m \n\u001b[1;32m   (...)\u001b[0m\n\u001b[0;32m   1659\u001b[0m \u001b[38;5;124;03m(``'green'``) or hex strings (``'#008000'``).\u001b[39;00m\n\u001b[0;32m   1660\u001b[0m \u001b[38;5;124;03m\"\"\"\u001b[39;00m\n\u001b[0;32m   1661\u001b[0m kwargs \u001b[38;5;241m=\u001b[39m cbook\u001b[38;5;241m.\u001b[39mnormalize_kwargs(kwargs, mlines\u001b[38;5;241m.\u001b[39mLine2D)\n\u001b[1;32m-> 1662\u001b[0m lines \u001b[38;5;241m=\u001b[39m [\u001b[38;5;241m*\u001b[39m\u001b[38;5;28mself\u001b[39m\u001b[38;5;241m.\u001b[39m_get_lines(\u001b[38;5;241m*\u001b[39margs, data\u001b[38;5;241m=\u001b[39mdata, \u001b[38;5;241m*\u001b[39m\u001b[38;5;241m*\u001b[39mkwargs)]\n\u001b[0;32m   1663\u001b[0m \u001b[38;5;28;01mfor\u001b[39;00m line \u001b[38;5;129;01min\u001b[39;00m lines:\n\u001b[0;32m   1664\u001b[0m     \u001b[38;5;28mself\u001b[39m\u001b[38;5;241m.\u001b[39madd_line(line)\n",
      "File \u001b[1;32m~\\AppData\\Local\\Packages\\PythonSoftwareFoundation.Python.3.10_qbz5n2kfra8p0\\LocalCache\\local-packages\\Python310\\site-packages\\matplotlib\\axes\\_base.py:311\u001b[0m, in \u001b[0;36m_process_plot_var_args.__call__\u001b[1;34m(self, data, *args, **kwargs)\u001b[0m\n\u001b[0;32m    309\u001b[0m     this \u001b[38;5;241m+\u001b[39m\u001b[38;5;241m=\u001b[39m args[\u001b[38;5;241m0\u001b[39m],\n\u001b[0;32m    310\u001b[0m     args \u001b[38;5;241m=\u001b[39m args[\u001b[38;5;241m1\u001b[39m:]\n\u001b[1;32m--> 311\u001b[0m \u001b[38;5;28;01myield from\u001b[39;00m \u001b[38;5;28;43mself\u001b[39;49m\u001b[38;5;241;43m.\u001b[39;49m\u001b[43m_plot_args\u001b[49m\u001b[43m(\u001b[49m\n\u001b[0;32m    312\u001b[0m \u001b[43m    \u001b[49m\u001b[43mthis\u001b[49m\u001b[43m,\u001b[49m\u001b[43m \u001b[49m\u001b[43mkwargs\u001b[49m\u001b[43m,\u001b[49m\u001b[43m \u001b[49m\u001b[43mambiguous_fmt_datakey\u001b[49m\u001b[38;5;241;43m=\u001b[39;49m\u001b[43mambiguous_fmt_datakey\u001b[49m\u001b[43m)\u001b[49m\n",
      "File \u001b[1;32m~\\AppData\\Local\\Packages\\PythonSoftwareFoundation.Python.3.10_qbz5n2kfra8p0\\LocalCache\\local-packages\\Python310\\site-packages\\matplotlib\\axes\\_base.py:504\u001b[0m, in \u001b[0;36m_process_plot_var_args._plot_args\u001b[1;34m(self, tup, kwargs, return_kwargs, ambiguous_fmt_datakey)\u001b[0m\n\u001b[0;32m    501\u001b[0m     \u001b[38;5;28mself\u001b[39m\u001b[38;5;241m.\u001b[39maxes\u001b[38;5;241m.\u001b[39myaxis\u001b[38;5;241m.\u001b[39mupdate_units(y)\n\u001b[0;32m    503\u001b[0m \u001b[38;5;28;01mif\u001b[39;00m x\u001b[38;5;241m.\u001b[39mshape[\u001b[38;5;241m0\u001b[39m] \u001b[38;5;241m!=\u001b[39m y\u001b[38;5;241m.\u001b[39mshape[\u001b[38;5;241m0\u001b[39m]:\n\u001b[1;32m--> 504\u001b[0m     \u001b[38;5;28;01mraise\u001b[39;00m \u001b[38;5;167;01mValueError\u001b[39;00m(\u001b[38;5;124mf\u001b[39m\u001b[38;5;124m\"\u001b[39m\u001b[38;5;124mx and y must have same first dimension, but \u001b[39m\u001b[38;5;124m\"\u001b[39m\n\u001b[0;32m    505\u001b[0m                      \u001b[38;5;124mf\u001b[39m\u001b[38;5;124m\"\u001b[39m\u001b[38;5;124mhave shapes \u001b[39m\u001b[38;5;132;01m{\u001b[39;00mx\u001b[38;5;241m.\u001b[39mshape\u001b[38;5;132;01m}\u001b[39;00m\u001b[38;5;124m and \u001b[39m\u001b[38;5;132;01m{\u001b[39;00my\u001b[38;5;241m.\u001b[39mshape\u001b[38;5;132;01m}\u001b[39;00m\u001b[38;5;124m\"\u001b[39m)\n\u001b[0;32m    506\u001b[0m \u001b[38;5;28;01mif\u001b[39;00m x\u001b[38;5;241m.\u001b[39mndim \u001b[38;5;241m>\u001b[39m \u001b[38;5;241m2\u001b[39m \u001b[38;5;129;01mor\u001b[39;00m y\u001b[38;5;241m.\u001b[39mndim \u001b[38;5;241m>\u001b[39m \u001b[38;5;241m2\u001b[39m:\n\u001b[0;32m    507\u001b[0m     \u001b[38;5;28;01mraise\u001b[39;00m \u001b[38;5;167;01mValueError\u001b[39;00m(\u001b[38;5;124mf\u001b[39m\u001b[38;5;124m\"\u001b[39m\u001b[38;5;124mx and y can be no greater than 2D, but have \u001b[39m\u001b[38;5;124m\"\u001b[39m\n\u001b[0;32m    508\u001b[0m                      \u001b[38;5;124mf\u001b[39m\u001b[38;5;124m\"\u001b[39m\u001b[38;5;124mshapes \u001b[39m\u001b[38;5;132;01m{\u001b[39;00mx\u001b[38;5;241m.\u001b[39mshape\u001b[38;5;132;01m}\u001b[39;00m\u001b[38;5;124m and \u001b[39m\u001b[38;5;132;01m{\u001b[39;00my\u001b[38;5;241m.\u001b[39mshape\u001b[38;5;132;01m}\u001b[39;00m\u001b[38;5;124m\"\u001b[39m)\n",
      "\u001b[1;31mValueError\u001b[0m: x and y must have same first dimension, but have shapes (5,) and (50, 10)"
     ]
    },
    {
     "data": {
      "image/png": "[encoded data removed]",
      "text/plain": [
       "<Figure size 1000x500 with 1 Axes>"
      ]
     },
     "metadata": {},
     "output_type": "display_data"
    }
   ],
   "source": [
    "ylim = [np.min(dpred), 1.1 * np.max(dpred)]\n",
    "\n",
    "fig = plt.figure(figsize=(10, 5))\n",
    "\n",
    "ax1 = fig.add_axes([0.1, 0.1, 0.4, 0.85])\n",
    "ax1.semilogx(frequencies, dpred[0::2], \"b-o\", lw=3, ms=10)\n",
    "ax1.grid()\n",
    "ax1.set_ylim(ylim)\n",
    "ax1.set_xlabel(\"Frequency (Hz)\")\n",
    "ax1.set_ylabel(\"Hs/Hp (ppm)\")\n",
    "ax1.set_title(\"Real Component\")\n",
    "\n",
    "ax2 = fig.add_axes([0.55, 0.1, 0.4, 0.85])\n",
    "ax2.semilogx(frequencies, dpred[1::2], \"b-o\", lw=3, ms=10)\n",
    "ax2.set_ylim(ylim)\n",
    "ax2.grid()\n",
    "ax2.set_xlabel(\"Frequency (Hz)\")\n",
    "ax2.set_yticklabels(\"\")\n",
    "ax2.set_title(\"Imaginary Component\")\n",
    "\n",
    "plt.show()"
   ]
  }
 ],
 "metadata": {
  "kernelspec": {
   "display_name": "Python 3",
   "language": "python",
   "name": "python3"
  },
  "language_info": {
   "codemirror_mode": {
    "name": "ipython",
    "version": 3
   },
   "file_extension": ".py",
   "mimetype": "text/x-python",
   "name": "python",
   "nbconvert_exporter": "python",
   "pygments_lexer": "ipython3",
   "version": "3.10.11"
  }
 },
 "nbformat": 4,
 "nbformat_minor": 2
}
