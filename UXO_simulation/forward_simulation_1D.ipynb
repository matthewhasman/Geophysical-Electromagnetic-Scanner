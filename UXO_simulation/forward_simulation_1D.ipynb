{
 "cells": [
  {
   "cell_type": "markdown",
   "metadata": {},
   "source": [
    "# Forward Simulation of UXO Detection"
   ]
  },
  {
   "cell_type": "code",
   "execution_count": 1,
   "metadata": {},
   "outputs": [],
   "source": [
    "import os\n",
    "import numpy as np\n",
    "from forward_freq_survey import Forward_Freq_Survey\n",
    "from layered_earth import Layered_Earth\n",
    "from UXO_object import UXO_Object"
   ]
  },
  {
   "cell_type": "markdown",
   "metadata": {},
   "source": [
    "## Define System Parameters"
   ]
  },
  {
   "cell_type": "code",
   "execution_count": 2,
   "metadata": {},
   "outputs": [],
   "source": [
    "z0 = 0.1 # height of our sensor above the ground (m)\n",
    "moment = 1 # dipole moment in A*m^2\n",
    "coil_spacing = 1 # spacing between Rx and Tx coils (m)\n",
    "min_freq = 1e4 # minimum frequency (Hz)\n",
    "max_freq = 1e5 # maximum frequency (Hz)\n",
    "num_freqs = 5 # number of frequencies to use in simulation\n",
    "soil_conductivity = 1 # conductivity of the soil (S/m)\n",
    "uxo_conductivity = 1e6 # conductivity of the UXO (S/m)"
   ]
  },
  {
   "cell_type": "markdown",
   "metadata": {},
   "source": [
    "## Define Simulated Data and x,y Grid"
   ]
  },
  {
   "cell_type": "code",
   "execution_count": 3,
   "metadata": {},
   "outputs": [],
   "source": [
    "# define frequencies\n",
    "frequencies = np.logspace(np.log10(min_freq), np.log10(max_freq), num_freqs)\n",
    "\n",
    "# create uxo object\n",
    "uxo = UXO_Object(np.array([0.0, 0.0, -1.0]), 0.4, 0.2, 0, 0, uxo_conductivity)\n",
    "\n",
    "# create layered earth object\n",
    "earth = Layered_Earth(soil_conductivity, uxo)\n",
    "\n",
    "# define x,y grid\n",
    "min_dist = -1\n",
    "max_dist = 1\n",
    "n_points = 10\n",
    "x_vals = np.linspace(min_dist, max_dist, n_points)\n",
    "y_vals = np.linspace(min_dist, max_dist, n_points)\n",
    "\n",
    "# define the forward simulation object\n",
    "sim = Forward_Freq_Survey(frequencies, z0, moment, coil_spacing)"
   ]
  },
  {
   "cell_type": "markdown",
   "metadata": {},
   "source": [
    "## Run the simulation and save the data"
   ]
  },
  {
   "cell_type": "code",
   "execution_count": 4,
   "metadata": {},
   "outputs": [],
   "source": [
    "import pickle\n",
    "\n",
    "# get predicted data at each xy point\n",
    "data_list = []\n",
    "for x in x_vals:\n",
    "    for y in y_vals:\n",
    "        # get predicted data\n",
    "        dpred = sim.predict_data(*earth.layers_at_pt((x, y)))\n",
    "        # add noise to the data\n",
    "        noise = (\n",
    "            0.05\n",
    "            * np.abs(dpred)\n",
    "            * np.random.normal(size=len(dpred))\n",
    "        )\n",
    "        dpred_out = dpred + noise\n",
    "        # store the data in a dictionary\n",
    "        data_dict = {\"x\": x,\n",
    "                     \"y\": y,\n",
    "                     \"frequencies\": frequencies,\n",
    "                     \"hz_real\": dpred_out[0::2],\n",
    "                     \"hz_imag\": dpred_out[1::2]}\n",
    "        data_list.append(data_dict)\n",
    "\n",
    "# write data to file\n",
    "os.makedirs(\"../forward_data\", exist_ok=True)\n",
    "with open(\"../forward_data/forward_simulation_data_test0.pkl\", \"wb\") as f:\n",
    "    pickle.dump((data_list, earth), f)"
   ]
  },
  {
   "cell_type": "markdown",
   "metadata": {},
   "source": [
    "## Plot the Data\n",
    "Todo: make this work with the new data structure"
   ]
  },
  {
   "cell_type": "code",
   "execution_count": 5,
   "metadata": {},
   "outputs": [
    {
     "ename": "NameError",
     "evalue": "name 'plt' is not defined",
     "output_type": "error",
     "traceback": [
      "\u001b[1;31m---------------------------------------------------------------------------\u001b[0m",
      "\u001b[1;31mNameError\u001b[0m                                 Traceback (most recent call last)",
      "Cell \u001b[1;32mIn [5], line 3\u001b[0m\n\u001b[0;32m      1\u001b[0m ylim \u001b[38;5;241m=\u001b[39m [np\u001b[38;5;241m.\u001b[39mmin(dpred), \u001b[38;5;241m1.1\u001b[39m \u001b[38;5;241m*\u001b[39m np\u001b[38;5;241m.\u001b[39mmax(dpred)]\n\u001b[1;32m----> 3\u001b[0m fig \u001b[38;5;241m=\u001b[39m \u001b[43mplt\u001b[49m\u001b[38;5;241m.\u001b[39mfigure(figsize\u001b[38;5;241m=\u001b[39m(\u001b[38;5;241m10\u001b[39m, \u001b[38;5;241m5\u001b[39m))\n\u001b[0;32m      5\u001b[0m ax1 \u001b[38;5;241m=\u001b[39m fig\u001b[38;5;241m.\u001b[39madd_axes([\u001b[38;5;241m0.1\u001b[39m, \u001b[38;5;241m0.1\u001b[39m, \u001b[38;5;241m0.4\u001b[39m, \u001b[38;5;241m0.85\u001b[39m])\n\u001b[0;32m      6\u001b[0m ax1\u001b[38;5;241m.\u001b[39msemilogx(frequencies, dpred[\u001b[38;5;241m0\u001b[39m::\u001b[38;5;241m2\u001b[39m], \u001b[38;5;124m\"\u001b[39m\u001b[38;5;124mb-o\u001b[39m\u001b[38;5;124m\"\u001b[39m, lw\u001b[38;5;241m=\u001b[39m\u001b[38;5;241m3\u001b[39m, ms\u001b[38;5;241m=\u001b[39m\u001b[38;5;241m10\u001b[39m)\n",
      "\u001b[1;31mNameError\u001b[0m: name 'plt' is not defined"
     ]
    }
   ],
   "source": [
    "ylim = [np.min(dpred), 1.1 * np.max(dpred)]\n",
    "\n",
    "fig = plt.figure(figsize=(10, 5))\n",
    "\n",
    "ax1 = fig.add_axes([0.1, 0.1, 0.4, 0.85])\n",
    "ax1.semilogx(frequencies, dpred[0::2], \"b-o\", lw=3, ms=10)\n",
    "ax1.grid()\n",
    "ax1.set_ylim(ylim)\n",
    "ax1.set_xlabel(\"Frequency (Hz)\")\n",
    "ax1.set_ylabel(\"Hs/Hp (ppm)\")\n",
    "ax1.set_title(\"Real Component\")\n",
    "\n",
    "ax2 = fig.add_axes([0.55, 0.1, 0.4, 0.85])\n",
    "ax2.semilogx(frequencies, dpred[1::2], \"b-o\", lw=3, ms=10)\n",
    "ax2.set_ylim(ylim)\n",
    "ax2.grid()\n",
    "ax2.set_xlabel(\"Frequency (Hz)\")\n",
    "ax2.set_yticklabels(\"\")\n",
    "ax2.set_title(\"Imaginary Component\")\n",
    "\n",
    "plt.show()"
   ]
  }
 ],
 "metadata": {
  "kernelspec": {
   "display_name": "Python 3",
   "language": "python",
   "name": "python3"
  },
  "language_info": {
   "codemirror_mode": {
    "name": "ipython",
    "version": 3
   },
   "file_extension": ".py",
   "mimetype": "text/x-python",
   "name": "python",
   "nbconvert_exporter": "python",
   "pygments_lexer": "ipython3",
   "version": "3.10.11"
  }
 },
 "nbformat": 4,
 "nbformat_minor": 2
}
