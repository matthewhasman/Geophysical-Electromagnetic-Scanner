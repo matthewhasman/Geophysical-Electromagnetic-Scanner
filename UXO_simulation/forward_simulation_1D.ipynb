{
 "cells": [
  {
   "cell_type": "markdown",
   "metadata": {},
   "source": [
    "# Forward Simulation of UXO Detection"
   ]
  },
  {
   "cell_type": "code",
   "execution_count": 1,
   "metadata": {},
   "outputs": [],
   "source": [
    "import os\n",
    "import numpy as np\n",
    "from forward_freq_survey import Forward_Freq_Survey\n",
    "from layered_earth import Layered_Earth\n",
    "from UXO_object import UXO_Object"
   ]
  },
  {
   "cell_type": "markdown",
   "metadata": {},
   "source": [
    "## Define System Parameters"
   ]
  },
  {
   "cell_type": "code",
   "execution_count": 2,
   "metadata": {},
   "outputs": [],
   "source": [
    "z0 = 0.1 # height of our sensor above the ground (m)\n",
    "moment = 1 # dipole moment in A*m^2\n",
    "coil_spacing = 1 # spacing between Rx and Tx coils (m)\n",
    "min_freq = 1e4 # minimum frequency (Hz)\n",
    "max_freq = 1e5 # maximum frequency (Hz)\n",
    "num_freqs = 5 # number of frequencies to use in simulation\n",
    "soil_conductivity = 1 # conductivity of the soil (S/m)\n",
    "uxo_conductivity = 1e6 # conductivity of the UXO (S/m)"
   ]
  },
  {
   "cell_type": "markdown",
   "metadata": {},
   "source": [
    "## Define Simulated Data and x,y Grid"
   ]
  },
  {
   "cell_type": "code",
   "execution_count": 3,
   "metadata": {},
   "outputs": [],
   "source": [
    "# define frequencies\n",
    "frequencies = np.logspace(np.log10(min_freq), np.log10(max_freq), num_freqs)\n",
    "\n",
    "# create uxo object\n",
    "uxo = UXO_Object(np.array([0.0, 0.0, -1.0]), 0.4, 0.2, 0, 0, uxo_conductivity)\n",
    "\n",
    "# create layered earth object\n",
    "earth = Layered_Earth(soil_conductivity, uxo)\n",
    "\n",
    "# define x,y grid\n",
    "min_dist = -1\n",
    "max_dist = 1\n",
    "n_points = 10\n",
    "x_vals = np.linspace(min_dist, max_dist, n_points)\n",
    "y_vals = np.linspace(min_dist, max_dist, n_points)\n",
    "\n",
    "# define the forward simulation object\n",
    "sim = Forward_Freq_Survey(frequencies, z0, moment, coil_spacing)"
   ]
  },
  {
   "cell_type": "markdown",
   "metadata": {},
   "source": [
    "## Run the simulation and save the data"
   ]
  },
  {
   "cell_type": "code",
   "execution_count": 4,
   "metadata": {},
   "outputs": [
    {
     "ename": "ValueError",
     "evalue": "Model of len(1) incorrect shape for mappings: \n    sigmaMap: expected model of len(2) for ExpMap(2,2)",
     "output_type": "error",
     "traceback": [
      "\u001b[1;31m---------------------------------------------------------------------------\u001b[0m",
      "\u001b[1;31mValueError\u001b[0m                                Traceback (most recent call last)",
      "Cell \u001b[1;32mIn[4], line 8\u001b[0m\n\u001b[0;32m      5\u001b[0m \u001b[38;5;28;01mfor\u001b[39;00m x \u001b[38;5;129;01min\u001b[39;00m x_vals:\n\u001b[0;32m      6\u001b[0m     \u001b[38;5;28;01mfor\u001b[39;00m y \u001b[38;5;129;01min\u001b[39;00m y_vals:\n\u001b[0;32m      7\u001b[0m         \u001b[38;5;66;03m# get predicted data\u001b[39;00m\n\u001b[1;32m----> 8\u001b[0m         dpred \u001b[38;5;241m=\u001b[39m \u001b[43msim\u001b[49m\u001b[38;5;241;43m.\u001b[39;49m\u001b[43mpredict_data\u001b[49m\u001b[43m(\u001b[49m\u001b[38;5;241;43m*\u001b[39;49m\u001b[43mearth\u001b[49m\u001b[38;5;241;43m.\u001b[39;49m\u001b[43mlayers_at_pt\u001b[49m\u001b[43m(\u001b[49m\u001b[43m(\u001b[49m\u001b[43mx\u001b[49m\u001b[43m,\u001b[49m\u001b[43m \u001b[49m\u001b[43my\u001b[49m\u001b[43m)\u001b[49m\u001b[43m)\u001b[49m\u001b[43m)\u001b[49m\n\u001b[0;32m      9\u001b[0m         \u001b[38;5;66;03m# add noise to the data\u001b[39;00m\n\u001b[0;32m     10\u001b[0m         noise \u001b[38;5;241m=\u001b[39m (\n\u001b[0;32m     11\u001b[0m             \u001b[38;5;241m0.05\u001b[39m\n\u001b[0;32m     12\u001b[0m             \u001b[38;5;241m*\u001b[39m np\u001b[38;5;241m.\u001b[39mabs(dpred)\n\u001b[0;32m     13\u001b[0m             \u001b[38;5;241m*\u001b[39m np\u001b[38;5;241m.\u001b[39mrandom\u001b[38;5;241m.\u001b[39mnormal(size\u001b[38;5;241m=\u001b[39m\u001b[38;5;28mlen\u001b[39m(dpred))\n\u001b[0;32m     14\u001b[0m         )\n",
      "File \u001b[1;32mc:\\Users\\sabri\\OneDrive\\Documents\\UBC Coursework\\Geophysical-Electromagnetic-Scanner\\UXO_simulation\\forward_freq_survey.py:67\u001b[0m, in \u001b[0;36mForward_Freq_Survey.predict_data\u001b[1;34m(self, layer_thicknesses, layer_conductivities)\u001b[0m\n\u001b[0;32m     60\u001b[0m simulation\u001b[38;5;241m=\u001b[39m fdem\u001b[38;5;241m.\u001b[39mSimulation1DLayered(\n\u001b[0;32m     61\u001b[0m     survey\u001b[38;5;241m=\u001b[39m\u001b[38;5;28mself\u001b[39m\u001b[38;5;241m.\u001b[39msurvey,\n\u001b[0;32m     62\u001b[0m     thicknesses\u001b[38;5;241m=\u001b[39mlayer_thicknesses,\n\u001b[0;32m     63\u001b[0m     sigmaMap\u001b[38;5;241m=\u001b[39mlog_conductivities_map,\n\u001b[0;32m     64\u001b[0m )\n\u001b[0;32m     66\u001b[0m \u001b[38;5;66;03m# Predict 1D FDEM Data\u001b[39;00m\n\u001b[1;32m---> 67\u001b[0m \u001b[38;5;28;01mreturn\u001b[39;00m \u001b[43msimulation\u001b[49m\u001b[38;5;241;43m.\u001b[39;49m\u001b[43mdpred\u001b[49m\u001b[43m(\u001b[49m\u001b[43mlog_conductivities_model\u001b[49m\u001b[43m)\u001b[49m\n",
      "File \u001b[1;32mc:\\Users\\sabri\\anaconda3\\envs\\eosc454\\Lib\\site-packages\\simpeg\\electromagnetics\\frequency_domain\\simulation_1d.py:97\u001b[0m, in \u001b[0;36mSimulation1DLayered.dpred\u001b[1;34m(self, m, f)\u001b[0m\n\u001b[0;32m     91\u001b[0m \u001b[38;5;250m\u001b[39m\u001b[38;5;124;03m\"\"\"\u001b[39;00m\n\u001b[0;32m     92\u001b[0m \u001b[38;5;124;03mReturn predicted data.\u001b[39;00m\n\u001b[0;32m     93\u001b[0m \u001b[38;5;124;03mPredicted data, (`_pred`) are computed when\u001b[39;00m\n\u001b[0;32m     94\u001b[0m \u001b[38;5;124;03mself.fields is called.\u001b[39;00m\n\u001b[0;32m     95\u001b[0m \u001b[38;5;124;03m\"\"\"\u001b[39;00m\n\u001b[0;32m     96\u001b[0m \u001b[38;5;28;01mif\u001b[39;00m f \u001b[38;5;129;01mis\u001b[39;00m \u001b[38;5;28;01mNone\u001b[39;00m:\n\u001b[1;32m---> 97\u001b[0m     f \u001b[38;5;241m=\u001b[39m \u001b[38;5;28;43mself\u001b[39;49m\u001b[38;5;241;43m.\u001b[39;49m\u001b[43mfields\u001b[49m\u001b[43m(\u001b[49m\u001b[43mm\u001b[49m\u001b[43m)\u001b[49m\n\u001b[0;32m     99\u001b[0m \u001b[38;5;28;01mreturn\u001b[39;00m f\n",
      "File \u001b[1;32mc:\\Users\\sabri\\anaconda3\\envs\\eosc454\\Lib\\site-packages\\simpeg\\electromagnetics\\frequency_domain\\simulation_1d.py:109\u001b[0m, in \u001b[0;36mSimulation1DLayered.fields\u001b[1;34m(self, m)\u001b[0m\n\u001b[0;32m    102\u001b[0m \u001b[38;5;250m\u001b[39m\u001b[38;5;124;03m\"\"\"\u001b[39;00m\n\u001b[0;32m    103\u001b[0m \u001b[38;5;124;03mThis method evaluates the Hankel transform for each source and\u001b[39;00m\n\u001b[0;32m    104\u001b[0m \u001b[38;5;124;03mreceiver and outputs it as a list. Used for computing response\u001b[39;00m\n\u001b[0;32m    105\u001b[0m \u001b[38;5;124;03mor sensitivities.\u001b[39;00m\n\u001b[0;32m    106\u001b[0m \u001b[38;5;124;03m\"\"\"\u001b[39;00m\n\u001b[0;32m    107\u001b[0m \u001b[38;5;28mself\u001b[39m\u001b[38;5;241m.\u001b[39m_compute_coefficients()\n\u001b[1;32m--> 109\u001b[0m \u001b[38;5;28;43mself\u001b[39;49m\u001b[38;5;241;43m.\u001b[39;49m\u001b[43mmodel\u001b[49m \u001b[38;5;241m=\u001b[39m m\n\u001b[0;32m    111\u001b[0m C0s \u001b[38;5;241m=\u001b[39m \u001b[38;5;28mself\u001b[39m\u001b[38;5;241m.\u001b[39m_C0s\n\u001b[0;32m    112\u001b[0m C1s \u001b[38;5;241m=\u001b[39m \u001b[38;5;28mself\u001b[39m\u001b[38;5;241m.\u001b[39m_C1s\n",
      "File \u001b[1;32mc:\\Users\\sabri\\anaconda3\\envs\\eosc454\\Lib\\site-packages\\simpeg\\props.py:421\u001b[0m, in \u001b[0;36mHasModel.model\u001b[1;34m(self, value)\u001b[0m\n\u001b[0;32m    415\u001b[0m         errors\u001b[38;5;241m.\u001b[39mappend(\n\u001b[0;32m    416\u001b[0m             \u001b[38;5;124m\"\u001b[39m\u001b[38;5;132;01m{}\u001b[39;00m\u001b[38;5;124m: expected model of len(\u001b[39m\u001b[38;5;132;01m{}\u001b[39;00m\u001b[38;5;124m) for \u001b[39m\u001b[38;5;132;01m{}\u001b[39;00m\u001b[38;5;124m\"\u001b[39m\u001b[38;5;241m.\u001b[39mformat(\n\u001b[0;32m    417\u001b[0m                 name, mapping\u001b[38;5;241m.\u001b[39mshape[\u001b[38;5;241m1\u001b[39m], \u001b[38;5;28mstr\u001b[39m(mapping)\n\u001b[0;32m    418\u001b[0m             )\n\u001b[0;32m    419\u001b[0m         )\n\u001b[0;32m    420\u001b[0m \u001b[38;5;28;01mif\u001b[39;00m \u001b[38;5;28mlen\u001b[39m(errors) \u001b[38;5;241m>\u001b[39m \u001b[38;5;241m0\u001b[39m:\n\u001b[1;32m--> 421\u001b[0m     \u001b[38;5;28;01mraise\u001b[39;00m \u001b[38;5;167;01mValueError\u001b[39;00m(\n\u001b[0;32m    422\u001b[0m         \u001b[38;5;124m\"\u001b[39m\u001b[38;5;124mModel of len(\u001b[39m\u001b[38;5;132;01m{}\u001b[39;00m\u001b[38;5;124m) incorrect shape for mappings: \u001b[39m\u001b[38;5;130;01m\\n\u001b[39;00m\u001b[38;5;124m    \u001b[39m\u001b[38;5;132;01m{}\u001b[39;00m\u001b[38;5;124m\"\u001b[39m\u001b[38;5;241m.\u001b[39mformat(\n\u001b[0;32m    423\u001b[0m             \u001b[38;5;28mlen\u001b[39m(value), \u001b[38;5;124m\"\u001b[39m\u001b[38;5;130;01m\\n\u001b[39;00m\u001b[38;5;124m    \u001b[39m\u001b[38;5;124m\"\u001b[39m\u001b[38;5;241m.\u001b[39mjoin(errors)\n\u001b[0;32m    424\u001b[0m         )\n\u001b[0;32m    425\u001b[0m     )\n\u001b[0;32m    426\u001b[0m previous \u001b[38;5;241m=\u001b[39m \u001b[38;5;28mgetattr\u001b[39m(\u001b[38;5;28mself\u001b[39m, \u001b[38;5;124m\"\u001b[39m\u001b[38;5;124m_model\u001b[39m\u001b[38;5;124m\"\u001b[39m, \u001b[38;5;28;01mNone\u001b[39;00m)\n\u001b[0;32m    427\u001b[0m \u001b[38;5;28;01mtry\u001b[39;00m:\n",
      "\u001b[1;31mValueError\u001b[0m: Model of len(1) incorrect shape for mappings: \n    sigmaMap: expected model of len(2) for ExpMap(2,2)"
     ]
    }
   ],
   "source": [
    "import pickle\n",
    "\n",
    "# get predicted data at each xy point\n",
    "data_list = []\n",
    "for x in x_vals:\n",
    "    for y in y_vals:\n",
    "        # get predicted data\n",
    "        dpred = sim.predict_data(*earth.layers_at_pt((x, y)))\n",
    "        # add noise to the data\n",
    "        noise = (\n",
    "            0.05\n",
    "            * np.abs(dpred)\n",
    "            * np.random.normal(size=len(dpred))\n",
    "        )\n",
    "        dpred_out = dpred + noise\n",
    "        # store the data in a dictionary\n",
    "        data_dict = {\"x\": x,\n",
    "                     \"y\": y,\n",
    "                     \"frequencies\": frequencies,\n",
    "                     \"hz_real\": dpred_out[0::2],\n",
    "                     \"hz_imag\": dpred_out[1::2]}\n",
    "        data_list.append(data_dict)\n",
    "# write data to file\n",
    "os.makedirs(\"../forward_data\", exist_ok=True)\n",
    "with open(\"../forward_data/forward_simulation_data_test0.pkl\", \"wb\") as f:\n",
    "    pickle.dump((data_list, earth), f)"
   ]
  },
  {
   "cell_type": "markdown",
   "metadata": {},
   "source": [
    "## Plot the Data\n",
    "Todo: make this work with the new data structure"
   ]
  },
  {
   "cell_type": "code",
   "execution_count": null,
   "metadata": {},
   "outputs": [],
   "source": [
    "ylim = [np.min(dpred), 1.1 * np.max(dpred)]\n",
    "\n",
    "fig = plt.figure(figsize=(10, 5))\n",
    "\n",
    "ax1 = fig.add_axes([0.1, 0.1, 0.4, 0.85])\n",
    "ax1.semilogx(frequencies, dpred[0::2], \"b-o\", lw=3, ms=10)\n",
    "ax1.grid()\n",
    "ax1.set_ylim(ylim)\n",
    "ax1.set_xlabel(\"Frequency (Hz)\")\n",
    "ax1.set_ylabel(\"Hs/Hp (ppm)\")\n",
    "ax1.set_title(\"Real Component\")\n",
    "\n",
    "ax2 = fig.add_axes([0.55, 0.1, 0.4, 0.85])\n",
    "ax2.semilogx(frequencies, dpred[1::2], \"b-o\", lw=3, ms=10)\n",
    "ax2.set_ylim(ylim)\n",
    "ax2.grid()\n",
    "ax2.set_xlabel(\"Frequency (Hz)\")\n",
    "ax2.set_yticklabels(\"\")\n",
    "ax2.set_title(\"Imaginary Component\")\n",
    "\n",
    "plt.show()"
   ]
  }
 ],
 "metadata": {
  "kernelspec": {
   "display_name": "eosc454",
   "language": "python",
   "name": "python3"
  },
  "language_info": {
   "codemirror_mode": {
    "name": "ipython",
    "version": 3
   },
   "file_extension": ".py",
   "mimetype": "text/x-python",
   "name": "python",
   "nbconvert_exporter": "python",
   "pygments_lexer": "ipython3",
   "version": "3.11.7"
  }
 },
 "nbformat": 4,
 "nbformat_minor": 2
}
