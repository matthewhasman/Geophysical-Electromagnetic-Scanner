{
 "cells": [
  {
   "cell_type": "markdown",
   "metadata": {},
   "source": [
    "# 1D Inversion for Multiple Soundings"
   ]
  },
  {
   "cell_type": "code",
   "execution_count": 9,
   "metadata": {},
   "outputs": [],
   "source": [
    "import numpy as np\n",
    "import matplotlib.pyplot as plt\n",
    "\n",
    "from discretize import TensorMesh\n",
    "    \n",
    "import SimPEG.electromagnetics.frequency_domain as fdem\n",
    "\n",
    "from SimPEG import (\n",
    "    maps,\n",
    "    data,\n",
    "    data_misfit,\n",
    "    inverse_problem,\n",
    "    regularization,\n",
    "    optimization,\n",
    "    directives,\n",
    "    inversion,\n",
    ")"
   ]
  },
  {
   "cell_type": "markdown",
   "metadata": {},
   "source": [
    "### Load Data and Plot"
   ]
  },
  {
   "cell_type": "code",
   "execution_count": 10,
   "metadata": {},
   "outputs": [],
   "source": [
    "# path to the directory containing our data\n",
    "dir_path = \".\\Data\" # or something else\n",
    "filename = \"em1dfm_data.txt\" # or something else\n",
    "\n",
    "# files to work with\n",
    "data_filename = dir_path + filename"
   ]
  },
  {
   "cell_type": "code",
   "execution_count": null,
   "metadata": {},
   "outputs": [],
   "source": [
    "background_conductivity = 1 # estimated soil conductivity\n",
    "\n",
    "imported_1d_data = np.loadtxt(str(data_filename), skiprows=1)\n",
    "\n",
    "### Read from the file ###\n",
    "# for example:\n",
    "# frequencies = imported_1d_data[]\n",
    "# x_positions = imported_1d_data[]\n",
    "# y_positions = imported_1d_data[]"
   ]
  },
  {
   "cell_type": "code",
   "execution_count": null,
   "metadata": {},
   "outputs": [],
   "source": [
    "# This will depend on how the data is structured in the data file\n",
    "def get_dobs_from_1d_data(index):\n",
    "    return 0\n",
    "\n",
    "def generate_survey(frequencies, x, y, moment=1):\n",
    "    \n",
    "    data_type = \"ppm\"\n",
    "\n",
    "    # Defining transmitter locations\n",
    "    source_location = np.c_[x, y, 0.1]\n",
    "    source_orientation = \"z\" #could change\n",
    "\n",
    "    # Define receiver locations\n",
    "    receiver_location = np.c_[x+1, y, 0.1]\n",
    "    receiver_orientation = \"z\" #could change\n",
    "\n",
    "    source_list = [] \n",
    "    # loop over all sources\n",
    "    for freq in frequencies:\n",
    "        # Define receivers that measure real and imaginary component\n",
    "        # magnetic field data in ppm.\n",
    "        receiver_list = []\n",
    "        receiver_list.append(\n",
    "            fdem.receivers.PointMagneticFieldSecondary(\n",
    "                receiver_location,\n",
    "                orientation=receiver_orientation,\n",
    "                data_type=data_type,\n",
    "                component=\"real\",\n",
    "            )\n",
    "        )\n",
    "        receiver_list.append(\n",
    "            fdem.receivers.PointMagneticFieldSecondary(\n",
    "                receiver_location,\n",
    "                orientation=receiver_orientation,\n",
    "                data_type=data_type,\n",
    "                component=\"imag\",\n",
    "            )\n",
    "        )\n",
    "\n",
    "        # Define a magnetic dipole source at each frequency\n",
    "        source_list.append(\n",
    "            fdem.sources.MagDipole(\n",
    "                receiver_list=receiver_list,\n",
    "                frequency=freq,\n",
    "                location=source_location,\n",
    "                orientation=source_orientation,\n",
    "                moment=moment,\n",
    "            )\n",
    "        )\n",
    "\n",
    "    # Define the FDEM survey\n",
    "    survey = fdem.survey.Survey(source_list)\n",
    "    return survey\n",
    "\n",
    "# Parameters here should be changed to find the ideal inversion condition\n",
    "def define_inverse_problem_1DLayered(data_object, regularization_mesh, simulation, reference_model, param):\n",
    "    \n",
    "    dmis_L2 = data_misfit.L2DataMisfit(simulation=simulation, data=data_object)\n",
    "    \n",
    "    reg_L2 = regularization.WeightedLeastSquares(\n",
    "        regularization_mesh,\n",
    "        length_scale_x=10.0,\n",
    "        reference_model=reference_model,\n",
    "        reference_model_in_smooth=False,\n",
    "    )\n",
    "    \n",
    "    # There are other parameters withint InexactFaussNewton we can change as well\n",
    "    opt_L2 = optimization.InexactGaussNewton(\n",
    "        maxIter=100, maxIterLS=20, maxIterCG=20, tolCG=1e-3\n",
    "    )\n",
    "\n",
    "    inv_prob_L2 = inverse_problem.BaseInvProblem(dmis_L2, reg_L2, opt_L2)\n",
    "    \n",
    "    update_jacobi = directives.UpdatePreconditioner(update_every_iteration=True)\n",
    "    starting_beta = directives.BetaEstimate_ByEig(beta0_ratio=param[\"beta0_ratio\"])\n",
    "    beta_schedule = directives.BetaSchedule(coolingFactor=param[\"coolingFactor\"], coolingRate=param[\"coolingRate\"])\n",
    "    target_misfit = directives.TargetMisfit(chifact=param[\"chifact\"])\n",
    "\n",
    "    directives_list_L2 = [update_jacobi, \n",
    "                        starting_beta, \n",
    "                        beta_schedule, \n",
    "                        target_misfit]\n",
    "    \n",
    "    inv_L2 = inversion.BaseInversion(inv_prob_L2, directives_list_L2)\n",
    "\n",
    "    return inv_L2"
   ]
  },
  {
   "cell_type": "code",
   "execution_count": null,
   "metadata": {},
   "outputs": [],
   "source": [
    "indx = 0\n",
    "\n",
    "dobs = get_dobs_from_1d_data(indx)\n",
    "\n",
    "# Plot FEM response for all frequencies\n",
    "fig, ax = plt.subplots(1, 1, figsize=(6, 6))\n",
    "ax.loglog(frequencies, abs(dobs[0::2]), \"r-o\", lw=3)\n",
    "ax.loglog(frequencies, abs(dobs[1::2]), \"b:o\", lw=3)\n",
    "ax.set_xlabel(\"Frequency [Hz]\")\n",
    "ax.set_ylabel(\"|Bz Secondary| [T]\")\n",
    "ax.set_title(f\"Magnetic Field Data at x={x_positions[indx]} and y={y_positions[indx]}\")\n",
    "ax.legend([\"Real\", \"Imaginary\"])\n",
    "plt.grid()\n",
    "plt.show()"
   ]
  },
  {
   "cell_type": "markdown",
   "metadata": {},
   "source": [
    "## Weighted Least-Square Inversion"
   ]
  },
  {
   "cell_type": "markdown",
   "metadata": {},
   "source": [
    "### Define a Regularization Mesh, Reference Model and the Mapping"
   ]
  },
  {
   "cell_type": "code",
   "execution_count": null,
   "metadata": {},
   "outputs": [],
   "source": [
    "# Defind layer thicknesses\n",
    "depth_min = 0.1  # top layer thickness\n",
    "depth_max = 3.0  # depth to lowest layer\n",
    "geometric_factor = 1.2  # rate of thickness increase\n",
    "layer_thicknesses = [depth_min]\n",
    "while np.sum(layer_thicknesses) < depth_max:\n",
    "    layer_thicknesses.append(geometric_factor * layer_thicknesses[-1])\n",
    "\n",
    "# Define 1D cell widths and create regularization mesh\n",
    "h = np.r_[layer_thicknesses, layer_thicknesses[-1]]\n",
    "h = np.flipud(h)\n",
    "regularization_mesh = TensorMesh([h], \"N\")\n",
    "\n",
    "# Define Starting model\n",
    "n_layers = len(layer_thicknesses) + 1\n",
    "starting_model = np.log((background_conductivity) * np.ones(n_layers))\n",
    "\n",
    "# Define mapping\n",
    "log_resistivity_map = maps.ExpMap(nP=n_layers)\n",
    "\n",
    "# Reference model is also log-resistivity values (S/m)\n",
    "reference_resistivity_model = starting_model.copy()"
   ]
  },
  {
   "cell_type": "markdown",
   "metadata": {},
   "source": [
    "## Perform Inversions on Soundings at All Positions"
   ]
  },
  {
   "cell_type": "code",
   "execution_count": 7,
   "metadata": {},
   "outputs": [],
   "source": [
    "# Set the inversion parameters\n",
    "param = {\n",
    "    \"beta0_ratio\": 1e1,\n",
    "    \"coolingFactor\": 2.0, \n",
    "    \"coolingRate\": 3.0, \n",
    "    \"chifact\": 1\n",
    "}"
   ]
  },
  {
   "cell_type": "code",
   "execution_count": null,
   "metadata": {},
   "outputs": [],
   "source": [
    "recovered_models = []\n",
    "\n",
    "for i, x in enumerate(x_positions):\n",
    "    for j, y in enumerate(y_positions):\n",
    "        # Generate a survey at the location\n",
    "        survey = generate_survey(frequencies=frequencies, x_position=x, y_postion=y)\n",
    "\n",
    "        # Get the data at the desired location\n",
    "        dobs = get_dobs_from_1d_data(imported_1d_data, location_index=i)\n",
    "        ## We need to look deeper into how to assign uncertainty here\n",
    "        uncertainties = 0.05 * np.abs(dobs) * np.ones(np.shape(dobs))\n",
    "        data_object = data.Data(survey, dobs=dobs, noise_floor=uncertainties)\n",
    "\n",
    "        # Define the L2 simulation\n",
    "        simulation_L2 = fdem.Simulation1DLayered(\n",
    "        survey=survey, thicknesses=layer_thicknesses, rhoMap=log_resistivity_map\n",
    "        )\n",
    "\n",
    "        # Define the Inversion\n",
    "        inv_L2 = define_inverse_problem_1DLayered(simulation_L2, data_object, regularization_mesh, reference_resistivity_model, param)\n",
    "        \n",
    "        # Recover the model\n",
    "        recovered_L2model = inv_L2.run(starting_model)\n",
    "        recovered_models.append(recovered_L2model)\n"
   ]
  },
  {
   "cell_type": "markdown",
   "metadata": {},
   "source": [
    "## Plot in 3D by Projecting 1D Data onto 3D mesh"
   ]
  },
  {
   "cell_type": "code",
   "execution_count": null,
   "metadata": {},
   "outputs": [],
   "source": []
  },
  {
   "cell_type": "markdown",
   "metadata": {},
   "source": [
    "## Interpolation between Each Recovered Models"
   ]
  },
  {
   "cell_type": "code",
   "execution_count": null,
   "metadata": {},
   "outputs": [],
   "source": []
  }
 ],
 "metadata": {
  "kernelspec": {
   "display_name": "eosc454",
   "language": "python",
   "name": "python3"
  },
  "language_info": {
   "codemirror_mode": {
    "name": "ipython",
    "version": 3
   },
   "file_extension": ".py",
   "mimetype": "text/x-python",
   "name": "python",
   "nbconvert_exporter": "python",
   "pygments_lexer": "ipython3",
   "version": "3.11.7"
  }
 },
 "nbformat": 4,
 "nbformat_minor": 2
}
